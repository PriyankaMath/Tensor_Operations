{
  "nbformat": 4,
  "nbformat_minor": 0,
  "metadata": {
    "colab": {
      "name": "Tensors_Pytorch.ipynb",
      "provenance": [],
      "authorship_tag": "ABX9TyOrzVM4SGCO0WOTQ4c1u/fp",
      "include_colab_link": true
    },
    "kernelspec": {
      "name": "python3",
      "display_name": "Python 3"
    },
    "language_info": {
      "name": "python"
    }
  },
  "cells": [
    {
      "cell_type": "markdown",
      "metadata": {
        "id": "view-in-github",
        "colab_type": "text"
      },
      "source": [
        "<a href=\"https://colab.research.google.com/github/PriyankaMath/Tensor_Operations/blob/main/Tensors_Pytorch.ipynb\" target=\"_parent\"><img src=\"https://colab.research.google.com/assets/colab-badge.svg\" alt=\"Open In Colab\"/></a>"
      ]
    },
    {
      "cell_type": "markdown",
      "source": [
        "# Basic Tensor Operations including einsum operations in Pytorch\n",
        "\n",
        "**Submitted By:** Priyanka Math"
      ],
      "metadata": {
        "id": "zltuEtP8Pc3j"
      }
    },
    {
      "cell_type": "markdown",
      "source": [
        "## Importing Pytorch"
      ],
      "metadata": {
        "id": "AXIZWnqAAhm4"
      }
    },
    {
      "cell_type": "code",
      "execution_count": null,
      "metadata": {
        "id": "jQ9HVQp59xFI"
      },
      "outputs": [],
      "source": [
        "import torch\n",
        "import numpy as np"
      ]
    },
    {
      "cell_type": "markdown",
      "source": [
        "## Initializing a Tensor"
      ],
      "metadata": {
        "id": "EqET49kSBSKD"
      }
    },
    {
      "cell_type": "markdown",
      "source": [
        "Tensors can be initialized in various ways."
      ],
      "metadata": {
        "id": "cZ9L_IS8CGSb"
      }
    },
    {
      "cell_type": "markdown",
      "source": [
        "#### Directly from data\n",
        "Tensors can be created directly from data. The data type is automatically inferred."
      ],
      "metadata": {
        "id": "Y-CX8yejCHVI"
      }
    },
    {
      "cell_type": "code",
      "source": [
        "data = [[1, 2],[3, 4]]\n",
        "x_data = torch.tensor(data)\n",
        "print(x_data)"
      ],
      "metadata": {
        "colab": {
          "base_uri": "https://localhost:8080/"
        },
        "id": "taa0vnw4BV1d",
        "outputId": "29485455-f7b5-4d1b-eacc-3bd957a2ee09"
      },
      "execution_count": null,
      "outputs": [
        {
          "output_type": "stream",
          "name": "stdout",
          "text": [
            "tensor([[1, 2],\n",
            "        [3, 4]])\n"
          ]
        }
      ]
    },
    {
      "cell_type": "markdown",
      "source": [
        "#### From a NumPy array\n",
        "Tensors can be created from NumPy arrays (and vice versa - see Bridge with NumPy)."
      ],
      "metadata": {
        "id": "u7mc2yzmCTGN"
      }
    },
    {
      "cell_type": "code",
      "source": [
        "np_array = np.array(data)\n",
        "x_np = torch.from_numpy(np_array)\n",
        "print(x_np)"
      ],
      "metadata": {
        "colab": {
          "base_uri": "https://localhost:8080/"
        },
        "id": "4gyFXiCFChAh",
        "outputId": "7698c019-816e-44e7-cd7c-675f79dc2759"
      },
      "execution_count": null,
      "outputs": [
        {
          "output_type": "stream",
          "name": "stdout",
          "text": [
            "tensor([[1, 2],\n",
            "        [3, 4]])\n"
          ]
        }
      ]
    },
    {
      "cell_type": "markdown",
      "source": [
        "#### From another tensor:\n",
        "The new tensor retains the properties (shape, datatype) of the argument tensor, unless explicitly overridden."
      ],
      "metadata": {
        "id": "DWenbfQcCtR1"
      }
    },
    {
      "cell_type": "code",
      "source": [
        "print(f\"x_data Tensor: \\n {x_data} \\n\")\n",
        "\n",
        "x_ones = torch.ones_like(x_data) # retains the properties of x_data\n",
        "print(f\"Ones Tensor: \\n {x_ones} \\n\")\n",
        "\n",
        "x_rand = torch.rand_like(x_data, dtype=torch.float) # overrides the datatype of x_data\n",
        "print(f\"Random Tensor: \\n {x_rand} \\n\")"
      ],
      "metadata": {
        "colab": {
          "base_uri": "https://localhost:8080/"
        },
        "id": "IvD3HNiRCyyq",
        "outputId": "d403316e-9c3a-4f41-dc42-0eb30d7d2322"
      },
      "execution_count": null,
      "outputs": [
        {
          "output_type": "stream",
          "name": "stdout",
          "text": [
            "x_data Tensor: \n",
            " tensor([[1, 2],\n",
            "        [3, 4]]) \n",
            "\n",
            "Ones Tensor: \n",
            " tensor([[1, 1],\n",
            "        [1, 1]]) \n",
            "\n",
            "Random Tensor: \n",
            " tensor([[0.9611, 0.5895],\n",
            "        [0.8415, 0.1876]]) \n",
            "\n"
          ]
        }
      ]
    },
    {
      "cell_type": "markdown",
      "source": [
        "#### With random or constant values:\n",
        "shape is a tuple of tensor dimensions. In the functions below, it determines the dimensionality of the output tensor."
      ],
      "metadata": {
        "id": "S64ZYxT4DmF1"
      }
    },
    {
      "cell_type": "code",
      "source": [
        "shape = (2,3,)\n",
        "rand_tensor = torch.rand(shape)\n",
        "ones_tensor = torch.ones(shape)\n",
        "zeros_tensor = torch.zeros(shape)\n",
        "\n",
        "print(f\"Random Tensor: \\n {rand_tensor} \\n\")\n",
        "print(f\"Ones Tensor: \\n {ones_tensor} \\n\")\n",
        "print(f\"Zeros Tensor: \\n {zeros_tensor}\")"
      ],
      "metadata": {
        "colab": {
          "base_uri": "https://localhost:8080/"
        },
        "id": "Rib6Ek6yDv5d",
        "outputId": "028e2bb3-d526-4ac0-b777-dd248f17d649"
      },
      "execution_count": null,
      "outputs": [
        {
          "output_type": "stream",
          "name": "stdout",
          "text": [
            "Random Tensor: \n",
            " tensor([[0.2532, 0.4660, 0.5442],\n",
            "        [0.1635, 0.2193, 0.3387]]) \n",
            "\n",
            "Ones Tensor: \n",
            " tensor([[1., 1., 1.],\n",
            "        [1., 1., 1.]]) \n",
            "\n",
            "Zeros Tensor: \n",
            " tensor([[0., 0., 0.],\n",
            "        [0., 0., 0.]])\n"
          ]
        }
      ]
    },
    {
      "cell_type": "markdown",
      "source": [
        "## Attributes of a Tensor"
      ],
      "metadata": {
        "id": "w65YMc28EEYm"
      }
    },
    {
      "cell_type": "markdown",
      "source": [
        "Tensor attributes describe their shape, datatype, and the device on which they are stored."
      ],
      "metadata": {
        "id": "Yk_5zZghEKke"
      }
    },
    {
      "cell_type": "code",
      "source": [
        "tensor = torch.rand(3,4)\n",
        "\n",
        "print(f\"Shape of tensor: {tensor.shape} \\n\")\n",
        "print(f\"Datatype of tensor: {tensor.dtype} \\n\")\n",
        "print(f\"Device tensor is stored on: {tensor.device} \\n\")"
      ],
      "metadata": {
        "colab": {
          "base_uri": "https://localhost:8080/"
        },
        "id": "Y2aQjHTLENYi",
        "outputId": "89461408-02f8-455b-eded-a845fb11e5af"
      },
      "execution_count": null,
      "outputs": [
        {
          "output_type": "stream",
          "name": "stdout",
          "text": [
            "Shape of tensor: torch.Size([3, 4]) \n",
            "\n",
            "Datatype of tensor: torch.float32 \n",
            "\n",
            "Device tensor is stored on: cpu \n",
            "\n"
          ]
        }
      ]
    },
    {
      "cell_type": "markdown",
      "source": [
        "## Operations on Tensors:"
      ],
      "metadata": {
        "id": "_-wKDQfUEUTl"
      }
    },
    {
      "cell_type": "markdown",
      "source": [
        "#### Standard numpy-like indexing and slicing:"
      ],
      "metadata": {
        "id": "2KwMSd-jEmHT"
      }
    },
    {
      "cell_type": "code",
      "source": [
        "tensor = torch.ones(4, 4)\n",
        "print(f\"First row: {tensor[0]} \\n\")\n",
        "print(f\"First column: {tensor[:, 0]} \\n\")\n",
        "print(f\"Last column: {tensor[..., -1]} \\n\")\n",
        "tensor[:,1] = 0\n",
        "print(tensor)"
      ],
      "metadata": {
        "colab": {
          "base_uri": "https://localhost:8080/"
        },
        "id": "WwvP-A3oEoes",
        "outputId": "ec61ea33-8e40-4998-b2b2-3728baeed3b0"
      },
      "execution_count": null,
      "outputs": [
        {
          "output_type": "stream",
          "name": "stdout",
          "text": [
            "First row: tensor([1., 1., 1., 1.]) \n",
            "\n",
            "First column: tensor([1., 1., 1., 1.]) \n",
            "\n",
            "Last column: tensor([1., 1., 1., 1.]) \n",
            "\n",
            "tensor([[1., 0., 1., 1.],\n",
            "        [1., 0., 1., 1.],\n",
            "        [1., 0., 1., 1.],\n",
            "        [1., 0., 1., 1.]])\n"
          ]
        }
      ]
    },
    {
      "cell_type": "markdown",
      "source": [
        "#### Joining tensors\n",
        "You can use torch.cat to concatenate a sequence of tensors along a given dimension."
      ],
      "metadata": {
        "id": "3xIQ0u7AFGf1"
      }
    },
    {
      "cell_type": "code",
      "source": [
        "t1 = torch.cat([tensor, tensor, tensor], dim=1)\n",
        "print(t1)"
      ],
      "metadata": {
        "colab": {
          "base_uri": "https://localhost:8080/"
        },
        "id": "dtQlfa7jFKKd",
        "outputId": "4f2ca82f-0001-433e-d647-eddcd4dcbae4"
      },
      "execution_count": null,
      "outputs": [
        {
          "output_type": "stream",
          "name": "stdout",
          "text": [
            "tensor([[1., 0., 1., 1., 1., 0., 1., 1., 1., 0., 1., 1.],\n",
            "        [1., 0., 1., 1., 1., 0., 1., 1., 1., 0., 1., 1.],\n",
            "        [1., 0., 1., 1., 1., 0., 1., 1., 1., 0., 1., 1.],\n",
            "        [1., 0., 1., 1., 1., 0., 1., 1., 1., 0., 1., 1.]])\n"
          ]
        }
      ]
    },
    {
      "cell_type": "markdown",
      "source": [
        "#### Arithmetic operations"
      ],
      "metadata": {
        "id": "7BjLUQWfFs8Y"
      }
    },
    {
      "cell_type": "markdown",
      "source": [
        "Matrix Multiplication:"
      ],
      "metadata": {
        "id": "GAEAFkvcFyFl"
      }
    },
    {
      "cell_type": "code",
      "source": [
        "# This computes the matrix multiplication between two tensors. y1, y2, y3 will have the same value\n",
        "tensor = torch.tensor([[1.0, 2.0],[3.0, 4.0]])\n",
        "y1 = tensor @ tensor.T\n",
        "print(f\"y1: {y1} \\n\")\n",
        "\n",
        "y2 = tensor.matmul(tensor.T)\n",
        "print(f\"y2: {y2} \\n\")\n",
        "\n",
        "y3 = torch.rand_like(tensor)\n",
        "torch.matmul(tensor, tensor.T, out=y3)"
      ],
      "metadata": {
        "colab": {
          "base_uri": "https://localhost:8080/"
        },
        "id": "TAlxIMOEF4MM",
        "outputId": "dffd93d5-6975-45f6-db0f-03a80a8d72ec"
      },
      "execution_count": null,
      "outputs": [
        {
          "output_type": "stream",
          "name": "stdout",
          "text": [
            "y1: tensor([[ 5., 11.],\n",
            "        [11., 25.]]) \n",
            "\n",
            "y2: tensor([[ 5., 11.],\n",
            "        [11., 25.]]) \n",
            "\n"
          ]
        },
        {
          "output_type": "execute_result",
          "data": {
            "text/plain": [
              "tensor([[ 5., 11.],\n",
              "        [11., 25.]])"
            ]
          },
          "metadata": {},
          "execution_count": 16
        }
      ]
    },
    {
      "cell_type": "markdown",
      "source": [
        "Element-wise product:"
      ],
      "metadata": {
        "id": "rj1eIWrLG99-"
      }
    },
    {
      "cell_type": "code",
      "source": [
        "# This computes the element-wise product. z1, z2, z3 will have the same value\n",
        "print(f\"tensor: {tensor} \\n\")\n",
        "z1 = tensor * tensor\n",
        "print(f\"z1: {z1} \\n\")\n",
        "z2 = tensor.mul(tensor)\n",
        "print(f\"z2: {z2} \\n\")\n",
        "z3 = torch.rand_like(tensor)\n",
        "torch.mul(tensor, tensor, out=z3)"
      ],
      "metadata": {
        "colab": {
          "base_uri": "https://localhost:8080/"
        },
        "id": "3GmKkbocHF-F",
        "outputId": "19f2b0a7-50a5-492b-b8f2-888c8fd65f16"
      },
      "execution_count": null,
      "outputs": [
        {
          "output_type": "stream",
          "name": "stdout",
          "text": [
            "tensor: tensor([[1., 2.],\n",
            "        [3., 4.]]) \n",
            "\n",
            "z1: tensor([[ 1.,  4.],\n",
            "        [ 9., 16.]]) \n",
            "\n",
            "z2: tensor([[ 1.,  4.],\n",
            "        [ 9., 16.]]) \n",
            "\n"
          ]
        },
        {
          "output_type": "execute_result",
          "data": {
            "text/plain": [
              "tensor([[ 1.,  4.],\n",
              "        [ 9., 16.]])"
            ]
          },
          "metadata": {},
          "execution_count": 19
        }
      ]
    },
    {
      "cell_type": "markdown",
      "source": [
        "Single-element tensors:\n",
        "\n",
        " If you have a one-element tensor, for example by aggregating all values of a tensor into one value, you can convert it to a Python numerical value using item():"
      ],
      "metadata": {
        "id": "-siIEzfDHaxS"
      }
    },
    {
      "cell_type": "code",
      "source": [
        "agg = tensor.sum()\n",
        "print(agg, type(agg))\n",
        "agg_item = agg.item()\n",
        "print(agg_item, type(agg_item))"
      ],
      "metadata": {
        "colab": {
          "base_uri": "https://localhost:8080/"
        },
        "id": "NguUiL71Hbvx",
        "outputId": "863d6889-a5bd-4d08-b952-9931cd96e60a"
      },
      "execution_count": null,
      "outputs": [
        {
          "output_type": "stream",
          "name": "stdout",
          "text": [
            "tensor(10.) <class 'torch.Tensor'>\n",
            "10.0 <class 'float'>\n"
          ]
        }
      ]
    },
    {
      "cell_type": "markdown",
      "source": [
        "In-place operations:\n",
        "\n",
        " Operations that store the result into the operand are called in-place. They are denoted by a _ suffix. For example: x.copy_(y), x.t_(), will change x."
      ],
      "metadata": {
        "id": "bHH7wNi3Hxst"
      }
    },
    {
      "cell_type": "code",
      "source": [
        "print(f\"{tensor} \\n\")\n",
        "tensor.add_(5)\n",
        "print(tensor)"
      ],
      "metadata": {
        "colab": {
          "base_uri": "https://localhost:8080/"
        },
        "id": "q-iVKMcpIWYh",
        "outputId": "e39d1bf3-edef-4206-b446-be15c38a2111"
      },
      "execution_count": null,
      "outputs": [
        {
          "output_type": "stream",
          "name": "stdout",
          "text": [
            "tensor([[1., 2.],\n",
            "        [3., 4.]]) \n",
            "\n",
            "tensor([[6., 7.],\n",
            "        [8., 9.]])\n"
          ]
        }
      ]
    },
    {
      "cell_type": "markdown",
      "source": [
        "## Einsum Operations"
      ],
      "metadata": {
        "id": "nBVHm0dG9Tmb"
      }
    },
    {
      "cell_type": "markdown",
      "source": [
        "#### MATRIX TRANSPOSE"
      ],
      "metadata": {
        "id": "m1c2EmvgIx-y"
      }
    },
    {
      "cell_type": "code",
      "source": [
        "a = torch.arange(6).reshape(2, 3) # Bji=Aij\n",
        "print(f\"a: {a} \\n\")\n",
        "torch.einsum('ij->ji', [a])"
      ],
      "metadata": {
        "colab": {
          "base_uri": "https://localhost:8080/"
        },
        "id": "_MLfgHzDI1IE",
        "outputId": "d86b4b38-8cc4-43e9-f6d1-4a03b8af1051"
      },
      "execution_count": null,
      "outputs": [
        {
          "output_type": "stream",
          "name": "stdout",
          "text": [
            "a: tensor([[0, 1, 2],\n",
            "        [3, 4, 5]]) \n",
            "\n"
          ]
        },
        {
          "output_type": "execute_result",
          "data": {
            "text/plain": [
              "tensor([[0, 3],\n",
              "        [1, 4],\n",
              "        [2, 5]])"
            ]
          },
          "metadata": {},
          "execution_count": 24
        }
      ]
    },
    {
      "cell_type": "markdown",
      "source": [
        "#### SUM\n"
      ],
      "metadata": {
        "id": "okGRP1mFJKcV"
      }
    },
    {
      "cell_type": "code",
      "source": [
        "a = torch.arange(6).reshape(2, 3) # b= ∑i ∑j Aij = Aij\n",
        "print(f\"a: {a} \\n\")\n",
        "torch.einsum('ij->', [a])"
      ],
      "metadata": {
        "colab": {
          "base_uri": "https://localhost:8080/"
        },
        "id": "sSvAzvZDJLxP",
        "outputId": "dc84008a-7f37-4933-d62d-628eb761ab5f"
      },
      "execution_count": null,
      "outputs": [
        {
          "output_type": "stream",
          "name": "stdout",
          "text": [
            "a: tensor([[0, 1, 2],\n",
            "        [3, 4, 5]]) \n",
            "\n"
          ]
        },
        {
          "output_type": "execute_result",
          "data": {
            "text/plain": [
              "tensor(15)"
            ]
          },
          "metadata": {},
          "execution_count": 25
        }
      ]
    },
    {
      "cell_type": "markdown",
      "source": [
        "#### COLUMN SUM"
      ],
      "metadata": {
        "id": "qS44w-9AJiNX"
      }
    },
    {
      "cell_type": "code",
      "source": [
        "a = torch.arange(6).reshape(2, 3) # bj = ∑i Aij = Aij\n",
        "print(f\"a: {a} \\n\")\n",
        "torch.einsum('ij->j', [a])"
      ],
      "metadata": {
        "colab": {
          "base_uri": "https://localhost:8080/"
        },
        "id": "JDomRuEOJgnE",
        "outputId": "a7de6dff-7423-468b-d5be-7c33bb84b512"
      },
      "execution_count": null,
      "outputs": [
        {
          "output_type": "stream",
          "name": "stdout",
          "text": [
            "a: tensor([[0, 1, 2],\n",
            "        [3, 4, 5]]) \n",
            "\n"
          ]
        },
        {
          "output_type": "execute_result",
          "data": {
            "text/plain": [
              "tensor([3, 5, 7])"
            ]
          },
          "metadata": {},
          "execution_count": 26
        }
      ]
    },
    {
      "cell_type": "markdown",
      "source": [
        "#### ROW SUM"
      ],
      "metadata": {
        "id": "kcRyrqA3Jt6Z"
      }
    },
    {
      "cell_type": "code",
      "source": [
        "a = torch.arange(6).reshape(2, 3) # bi = ∑j Aij = Aij\n",
        "print(f\"a: {a} \\n\")\n",
        "torch.einsum('ij->i', [a])"
      ],
      "metadata": {
        "colab": {
          "base_uri": "https://localhost:8080/"
        },
        "id": "PIO_xy9VJu-I",
        "outputId": "c1665177-8d92-478a-8bd9-a5df32815cc1"
      },
      "execution_count": null,
      "outputs": [
        {
          "output_type": "stream",
          "name": "stdout",
          "text": [
            "a: tensor([[0, 1, 2],\n",
            "        [3, 4, 5]]) \n",
            "\n"
          ]
        },
        {
          "output_type": "execute_result",
          "data": {
            "text/plain": [
              "tensor([ 3, 12])"
            ]
          },
          "metadata": {},
          "execution_count": 27
        }
      ]
    },
    {
      "cell_type": "markdown",
      "source": [
        "#### MATRIX-VECTOR MULTIPLICATION"
      ],
      "metadata": {
        "id": "ySqQsBWlJ60k"
      }
    },
    {
      "cell_type": "code",
      "source": [
        "a = torch.arange(6).reshape(2, 3) # ci = ∑k Aik bk = Aikbk\n",
        "print(f\"a: {a} \\n\")\n",
        "b = torch.arange(3)\n",
        "print(f\"b: {b} \\n\")\n",
        "torch.einsum('ik,k->i', [a, b])"
      ],
      "metadata": {
        "colab": {
          "base_uri": "https://localhost:8080/"
        },
        "id": "O9745jcJJ9FG",
        "outputId": "e1484713-39d0-44ec-b4d5-d639e9cf6673"
      },
      "execution_count": null,
      "outputs": [
        {
          "output_type": "stream",
          "name": "stdout",
          "text": [
            "a: tensor([[0, 1, 2],\n",
            "        [3, 4, 5]]) \n",
            "\n",
            "b: tensor([0, 1, 2]) \n",
            "\n"
          ]
        },
        {
          "output_type": "execute_result",
          "data": {
            "text/plain": [
              "tensor([ 5, 14])"
            ]
          },
          "metadata": {},
          "execution_count": 28
        }
      ]
    },
    {
      "cell_type": "markdown",
      "source": [
        "#### MATRIX-MATRIX MULTIPLICATION"
      ],
      "metadata": {
        "id": "7UCZyPhqLoAY"
      }
    },
    {
      "cell_type": "code",
      "source": [
        "a = torch.arange(6).reshape(2, 3) # Cij = ∑k Aik Bkj = Aik Bkj\n",
        "print(f\"a: {a} \\n\")\n",
        "b = torch.arange(15).reshape(3, 5)\n",
        "print(f\"b: {b} \\n\")\n",
        "torch.einsum('ik,kj->ij', [a, b])"
      ],
      "metadata": {
        "colab": {
          "base_uri": "https://localhost:8080/"
        },
        "id": "B678IX7bLqEz",
        "outputId": "02464a2f-fed7-4eb2-8ce6-0e5ce98a3f75"
      },
      "execution_count": null,
      "outputs": [
        {
          "output_type": "stream",
          "name": "stdout",
          "text": [
            "a: tensor([[0, 1, 2],\n",
            "        [3, 4, 5]]) \n",
            "\n",
            "b: tensor([[ 0,  1,  2,  3,  4],\n",
            "        [ 5,  6,  7,  8,  9],\n",
            "        [10, 11, 12, 13, 14]]) \n",
            "\n"
          ]
        },
        {
          "output_type": "execute_result",
          "data": {
            "text/plain": [
              "tensor([[ 25,  28,  31,  34,  37],\n",
              "        [ 70,  82,  94, 106, 118]])"
            ]
          },
          "metadata": {},
          "execution_count": 29
        }
      ]
    },
    {
      "cell_type": "markdown",
      "source": [
        "#### DOT PRODUCT"
      ],
      "metadata": {
        "id": "3uANfGJPL8L4"
      }
    },
    {
      "cell_type": "code",
      "source": [
        "a = torch.arange(3)\n",
        "print(f\"a: {a} \\n\")\n",
        "b = torch.arange(3,6)  # -- a vector of length 3 containing [3, 4, 5]\n",
        "print(f\"b: {b} \\n\")\n",
        "torch.einsum('i,i->', [a, b])  # c = ∑i ai bi = aibi "
      ],
      "metadata": {
        "colab": {
          "base_uri": "https://localhost:8080/"
        },
        "id": "b_cXiZ48MBJm",
        "outputId": "fe423530-827a-4b05-e4eb-066182966bee"
      },
      "execution_count": null,
      "outputs": [
        {
          "output_type": "stream",
          "name": "stdout",
          "text": [
            "a: tensor([0, 1, 2]) \n",
            "\n",
            "b: tensor([3, 4, 5]) \n",
            "\n"
          ]
        },
        {
          "output_type": "execute_result",
          "data": {
            "text/plain": [
              "tensor(14)"
            ]
          },
          "metadata": {},
          "execution_count": 30
        }
      ]
    },
    {
      "cell_type": "markdown",
      "source": [
        "#### Matrix:"
      ],
      "metadata": {
        "id": "kdNo118cL_1w"
      }
    },
    {
      "cell_type": "code",
      "source": [
        "a = torch.arange(6).reshape(2, 3)\n",
        "print(f\"a: {a} \\n\")\n",
        "b = torch.arange(6,12).reshape(2, 3)\n",
        "print(f\"b: {b} \\n\")\n",
        "torch.einsum('ij,ij->', [a, b])  #  c=∑i∑j Aij Bij = Aij Bij"
      ],
      "metadata": {
        "colab": {
          "base_uri": "https://localhost:8080/"
        },
        "id": "T2uJDhRrMcgs",
        "outputId": "efc55edd-c701-428b-f2de-80c831146ad7"
      },
      "execution_count": null,
      "outputs": [
        {
          "output_type": "stream",
          "name": "stdout",
          "text": [
            "a: tensor([[0, 1, 2],\n",
            "        [3, 4, 5]]) \n",
            "\n",
            "b: tensor([[ 6,  7,  8],\n",
            "        [ 9, 10, 11]]) \n",
            "\n"
          ]
        },
        {
          "output_type": "execute_result",
          "data": {
            "text/plain": [
              "tensor(145)"
            ]
          },
          "metadata": {},
          "execution_count": 31
        }
      ]
    },
    {
      "cell_type": "markdown",
      "source": [
        "#### HADAMARD PRODUCT"
      ],
      "metadata": {
        "id": "fVFFqYB1M0oc"
      }
    },
    {
      "cell_type": "code",
      "source": [
        "a = torch.arange(6).reshape(2, 3)\n",
        "print(f\"a: {a} \\n\")\n",
        "b = torch.arange(6,12).reshape(2, 3)\n",
        "print(f\"b: {b} \\n\")\n",
        "torch.einsum('ij,ij->ij', [a, b]) # Cij = AijBij"
      ],
      "metadata": {
        "colab": {
          "base_uri": "https://localhost:8080/"
        },
        "id": "wjRqdcJGM1k1",
        "outputId": "99157f1a-21fa-42a5-9a26-4a1b12315573"
      },
      "execution_count": null,
      "outputs": [
        {
          "output_type": "stream",
          "name": "stdout",
          "text": [
            "a: tensor([[0, 1, 2],\n",
            "        [3, 4, 5]]) \n",
            "\n",
            "b: tensor([[ 6,  7,  8],\n",
            "        [ 9, 10, 11]]) \n",
            "\n"
          ]
        },
        {
          "output_type": "execute_result",
          "data": {
            "text/plain": [
              "tensor([[ 0,  7, 16],\n",
              "        [27, 40, 55]])"
            ]
          },
          "metadata": {},
          "execution_count": 32
        }
      ]
    },
    {
      "cell_type": "markdown",
      "source": [
        "#### OUTER PRODUCT"
      ],
      "metadata": {
        "id": "SMJa2bzBNC1X"
      }
    },
    {
      "cell_type": "code",
      "source": [
        "a = torch.arange(3)\n",
        "print(f\"a: {a} \\n\")\n",
        "b = torch.arange(3,7)  # -- a vector of length 4 containing [3, 4, 5, 6]\n",
        "print(f\"b: {b} \\n\")\n",
        "torch.einsum('i,j->ij', [a, b])  # Cij = aibj"
      ],
      "metadata": {
        "colab": {
          "base_uri": "https://localhost:8080/"
        },
        "id": "rYQZ1S3VNELn",
        "outputId": "dcf0f053-4369-49b0-c3fc-640c16b45ba8"
      },
      "execution_count": null,
      "outputs": [
        {
          "output_type": "stream",
          "name": "stdout",
          "text": [
            "a: tensor([0, 1, 2]) \n",
            "\n",
            "b: tensor([3, 4, 5, 6]) \n",
            "\n"
          ]
        },
        {
          "output_type": "execute_result",
          "data": {
            "text/plain": [
              "tensor([[ 0,  0,  0,  0],\n",
              "        [ 3,  4,  5,  6],\n",
              "        [ 6,  8, 10, 12]])"
            ]
          },
          "metadata": {},
          "execution_count": 33
        }
      ]
    },
    {
      "cell_type": "markdown",
      "source": [
        "#### BATCH MATRIX MULTIPLICATION"
      ],
      "metadata": {
        "id": "iJvxVgUFNV93"
      }
    },
    {
      "cell_type": "code",
      "source": [
        "a = torch.arange(30).reshape(3,2,5)\n",
        "print(f\"a: {a} \\n\")\n",
        "b = torch.arange(45).reshape(3,5,3)\n",
        "print(f\"b: {b} \\n\")\n",
        "torch.einsum('ijk,ikl->ijl', [a, b])  # Cijl = ∑k Aijk Bikl = Aijk Bikl"
      ],
      "metadata": {
        "colab": {
          "base_uri": "https://localhost:8080/"
        },
        "id": "aZ52LvmHNVPP",
        "outputId": "ba1d9b24-7839-4e42-a562-36b5f23cee62"
      },
      "execution_count": null,
      "outputs": [
        {
          "output_type": "stream",
          "name": "stdout",
          "text": [
            "a: tensor([[[ 0,  1,  2,  3,  4],\n",
            "         [ 5,  6,  7,  8,  9]],\n",
            "\n",
            "        [[10, 11, 12, 13, 14],\n",
            "         [15, 16, 17, 18, 19]],\n",
            "\n",
            "        [[20, 21, 22, 23, 24],\n",
            "         [25, 26, 27, 28, 29]]]) \n",
            "\n",
            "b: tensor([[[ 0,  1,  2],\n",
            "         [ 3,  4,  5],\n",
            "         [ 6,  7,  8],\n",
            "         [ 9, 10, 11],\n",
            "         [12, 13, 14]],\n",
            "\n",
            "        [[15, 16, 17],\n",
            "         [18, 19, 20],\n",
            "         [21, 22, 23],\n",
            "         [24, 25, 26],\n",
            "         [27, 28, 29]],\n",
            "\n",
            "        [[30, 31, 32],\n",
            "         [33, 34, 35],\n",
            "         [36, 37, 38],\n",
            "         [39, 40, 41],\n",
            "         [42, 43, 44]]]) \n",
            "\n"
          ]
        },
        {
          "output_type": "execute_result",
          "data": {
            "text/plain": [
              "tensor([[[  90,  100,  110],\n",
              "         [ 240,  275,  310]],\n",
              "\n",
              "        [[1290, 1350, 1410],\n",
              "         [1815, 1900, 1985]],\n",
              "\n",
              "        [[3990, 4100, 4210],\n",
              "         [4890, 5025, 5160]]])"
            ]
          },
          "metadata": {},
          "execution_count": 36
        }
      ]
    },
    {
      "cell_type": "markdown",
      "source": [
        "#### TENSOR CONTRACTION\n",
        "Batch matrix multiplication is a special case of a tensor contraction. Let's say we have two tensors, an order-n tensor A∈RI1×⋯×In and an order-m tensor B∈RJ1×⋯×Im. As an example, take n=4, m=5 and assume that I2=J3 and I3=J5. We can multiply the two tensors in these two dimensions (2 and 3 for A and 3 and 5 for B) resulting in a new tensor C∈RI1×I4×J1×J2×J4 as follows\n",
        "\n",
        "Cpstuv=∑q∑rApqrsBtuqvr=ApqrsBtuqvr"
      ],
      "metadata": {
        "id": "PJ-wgpLpOefS"
      }
    },
    {
      "cell_type": "code",
      "source": [
        "a = torch.randn(2,3,5,7)\n",
        "b = torch.randn(11,13,3,17,5)\n",
        "torch.einsum('pqrs,tuqvr->pstuv', [a, b]).shape"
      ],
      "metadata": {
        "colab": {
          "base_uri": "https://localhost:8080/"
        },
        "id": "LGVw8biFOfc0",
        "outputId": "24b68ab5-09ff-4621-bddf-d39e011a5099"
      },
      "execution_count": null,
      "outputs": [
        {
          "output_type": "execute_result",
          "data": {
            "text/plain": [
              "torch.Size([2, 7, 11, 13, 17])"
            ]
          },
          "metadata": {},
          "execution_count": 37
        }
      ]
    },
    {
      "cell_type": "markdown",
      "source": [
        "#### BILINEAR TRANSFORMATION\n",
        "\n",
        "As mentioned earlier, einsum can operate on more than two tensors. One example where this is used is bilinear transformation.\n",
        "\n",
        "Dij=∑k∑lAikBjklCil=AikBjklCil"
      ],
      "metadata": {
        "id": "-RBDnUMcPBzj"
      }
    },
    {
      "cell_type": "code",
      "source": [
        "a = torch.randn(2,3)\n",
        "b = torch.randn(5,3,7)\n",
        "c = torch.randn(2,7)\n",
        "torch.einsum('ik,jkl,il->ij', [a, b, c])"
      ],
      "metadata": {
        "colab": {
          "base_uri": "https://localhost:8080/"
        },
        "id": "7gx78PeFPCyK",
        "outputId": "9f26e985-5339-4a84-8bc9-a8039defd83a"
      },
      "execution_count": null,
      "outputs": [
        {
          "output_type": "execute_result",
          "data": {
            "text/plain": [
              "tensor([[ 4.5470, -2.0217,  1.4526,  0.0379,  0.7637],\n",
              "        [-0.6053,  1.2503, -5.1426,  1.4413, -3.6375]])"
            ]
          },
          "metadata": {},
          "execution_count": 38
        }
      ]
    }
  ]
}